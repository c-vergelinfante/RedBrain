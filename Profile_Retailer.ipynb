{
 "cells": [
  {
   "cell_type": "markdown",
   "metadata": {},
   "source": [
    "# Profile Retailer\n",
    "\n",
    "Function with basic information about a specific retailer. To run, make sure the `path_dataset` corresponds to the csv file with the data. Then, compile `retailer_overview` and run it with the name of the desired retailer as argument. An example in how to run the function is written in the bottom of the script.\n",
    "\n",
    "Script works with the file `SQL_aggregated_data.csv`, where the data has been aggergated by retailer into two periods: trial and future. Only future periods are analyzed since it corresponds to 94 days instead 26 in the trail period.\n"
   ]
  },
  {
   "cell_type": "code",
   "execution_count": null,
   "metadata": {},
   "outputs": [],
   "source": [
    "path_dataset = \"SQL_aggregated_data.csv\""
   ]
  },
  {
   "cell_type": "code",
   "execution_count": null,
   "metadata": {},
   "outputs": [],
   "source": [
    "import pandas as pd\n",
    "import numpy as np\n",
    "from matplotlib import pyplot as plt\n",
    "\n",
    "full_dataset = pd.read_csv(path_dataset, dtype={'CustomAttribute2':str})"
   ]
  },
  {
   "cell_type": "code",
   "execution_count": null,
   "metadata": {},
   "outputs": [],
   "source": [
    "def retailer_overview(name_Retailer):\n",
    "    \"\"\"\"Input argument: name of the Retailer\n",
    "    \n",
    "        This function prints an overview of a specific retailer\n",
    "        Only input is the name of that retailer and it would safely\n",
    "        complained if a retailer's name is not found in the dataset\n",
    "    \n",
    "        Dataset is reduced to the future period, and only companies\n",
    "        with information in both the trial and future periods are\n",
    "        retained\"\"\"\n",
    "\n",
    "    reduced_data = full_dataset[full_dataset.duplicated(['CustomAttribute1'], keep=False)]\n",
    "    only_future = reduced_data[reduced_data['period'] == 'future']\n",
    "    info_Retailer = only_future[only_future.CustomAttribute1 == name_Retailer]\n",
    "    all_Retailers = reduced_data['CustomAttribute1'].unique()\n",
    "\n",
    "    if name_Retailer not in all_Retailers:\n",
    "        print('Error! Retailer DOES NOT exist!')\n",
    "    else:\n",
    "               \n",
    "        #### PRINT INFO: about the retailer #####\n",
    "\n",
    "        print('\\n','Retailer : ', name_Retailer,'\\n')\n",
    "        print('Total number of Impressions :', info_Retailer['total_impressions'].sum())\n",
    "        print('Total number of Clicks :', info_Retailer['total_clicks'].sum())\n",
    "        print('Average Clicks per day : %1.2f' %info_Retailer['clicks_per_day'].mean())\n",
    "        print('Total number of days :', info_Retailer['unique_days'].sum(),'\\n')\n",
    "\n",
    "        print('Total revenue : £ %1.2f' %info_Retailer['Revenue'].sum())\n",
    "        print('Total Cost : £ %1.2f' %info_Retailer['Cost_corrected'].sum(),'\\n')\n",
    "        \n",
    "        print('Average CTR (number of clicks per impressions) : %1.2f %%' %info_Retailer['avg_Ctr'].mean())\n",
    "        print('Average Conversion Rate : %1.2f %%' %info_Retailer['avg_ConvRate'].mean())\n",
    "        print('Average CPC (clicks per conversions) : %1.2f' %info_Retailer['avg_AvgCPC'].mean(),'\\n')\n",
    "        \n",
    "        print('Number of Products : %1.0f ' %info_Retailer['unique_products'].mean())\n",
    "        print('Number of Brands : %1.0f ' %info_Retailer['unique_Brands'].mean())\n",
    "        print('Platforms used by clients (Phone, PC, TV, table) : %1.0f ' %info_Retailer['unique_Device'].mean())\n",
    "        print('Conditions of products (New, Used, Refurnished) : %1.0f ' %info_Retailer['unique_Condition'].mean())\n",
    "        \n",
    "        \n"
   ]
  },
  {
   "cell_type": "code",
   "execution_count": null,
   "metadata": {},
   "outputs": [],
   "source": [
    "retailer_overview('mothercare')"
   ]
  }
 ],
 "metadata": {
  "kernelspec": {
   "display_name": "Python 3",
   "language": "python",
   "name": "python3"
  },
  "language_info": {
   "codemirror_mode": {
    "name": "ipython",
    "version": 3
   },
   "file_extension": ".py",
   "mimetype": "text/x-python",
   "name": "python",
   "nbconvert_exporter": "python",
   "pygments_lexer": "ipython3",
   "version": "3.7.3"
  }
 },
 "nbformat": 4,
 "nbformat_minor": 2
}
