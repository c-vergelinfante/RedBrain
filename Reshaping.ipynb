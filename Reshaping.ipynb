{
 "cells": [
  {
   "cell_type": "markdown",
   "metadata": {},
   "source": [
    "# Data cleaning and exploration\n",
    "\n",
    "This script takes as input the raw data from the dataset `SQL_aggregated_data.csv`, which was generated using the SQL script `SQL_script.sql`. This dataset is then re-processed to aggregate over those retailers active in both the trial and future period. The output file `Reshaped_dataset.csv` contains a single entry per retailer containing the necessary trial and future period data."
   ]
  },
  {
   "cell_type": "code",
   "execution_count": null,
   "metadata": {},
   "outputs": [],
   "source": [
    "# import libraries\n",
    "import os\n",
    "import pandas as pd"
   ]
  },
  {
   "cell_type": "code",
   "execution_count": null,
   "metadata": {},
   "outputs": [],
   "source": [
    "# read in the dataset from the SQL script output\n",
    "df = pd.read_csv('SQL_aggregated_data.csv', header = 0, )"
   ]
  },
  {
   "cell_type": "code",
   "execution_count": null,
   "metadata": {},
   "outputs": [],
   "source": [
    "# check number of rows and columns\n",
    "df.shape"
   ]
  },
  {
   "cell_type": "code",
   "execution_count": null,
   "metadata": {
    "scrolled": false
   },
   "outputs": [],
   "source": [
    "# see variable names\n",
    "df.keys()"
   ]
  },
  {
   "cell_type": "code",
   "execution_count": null,
   "metadata": {},
   "outputs": [],
   "source": [
    "# take only those retailers that appear in both the trial and future period\n",
    "both_periods = df['CustomAttribute1'][df.CustomAttribute1.duplicated()]\n",
    "df_tmp = df[df.CustomAttribute1.isin(both_periods)]"
   ]
  },
  {
   "cell_type": "code",
   "execution_count": null,
   "metadata": {},
   "outputs": [],
   "source": [
    "df_tmp.shape"
   ]
  },
  {
   "cell_type": "code",
   "execution_count": null,
   "metadata": {},
   "outputs": [],
   "source": [
    "# remove unneeded columns\n",
    "df_tmp = df_tmp.drop(columns = ['Profit','total_conversionvalue'])"
   ]
  },
  {
   "cell_type": "code",
   "execution_count": null,
   "metadata": {},
   "outputs": [],
   "source": [
    "# pull out all features for trial period and drop period column and rename some columns\n",
    "aggr_trial_features = df_tmp[df_tmp['period'] == 'trial'].drop(columns = 'period')\n",
    "aggr_trial_features = aggr_trial_features.rename(columns = {'anyRevenue': 'anyRevenue_trial', 'Revenue':'Revenue_trial'})"
   ]
  },
  {
   "cell_type": "code",
   "execution_count": null,
   "metadata": {},
   "outputs": [],
   "source": [
    "aggr_trial_features.shape"
   ]
  },
  {
   "cell_type": "code",
   "execution_count": null,
   "metadata": {},
   "outputs": [],
   "source": [
    "# pull out relevant features for future period and rename columns\n",
    "aggr_future_profit = df_tmp[df_tmp['period'] == 'future'][['CustomAttribute1','anyRevenue','Revenue']].rename(columns = {'anyRevenue': 'anyRevenue_future', 'Revenue':'Revenue_future'})"
   ]
  },
  {
   "cell_type": "code",
   "execution_count": null,
   "metadata": {},
   "outputs": [],
   "source": [
    "# merge trial and future data on retailer\n",
    "MergedFile = pd.merge(aggr_trial_features,aggr_future_profit,on = 'CustomAttribute1')"
   ]
  },
  {
   "cell_type": "code",
   "execution_count": null,
   "metadata": {},
   "outputs": [],
   "source": [
    "# save the resulting merged aggregated data for the ML script\n",
    "MergedFile.to_csv(\"Reshaped_dataset.csv\", index=False, encoding='utf-8-sig')"
   ]
  }
 ],
 "metadata": {
  "kernelspec": {
   "display_name": "Python 3",
   "language": "python",
   "name": "python3"
  },
  "language_info": {
   "codemirror_mode": {
    "name": "ipython",
    "version": 3
   },
   "file_extension": ".py",
   "mimetype": "text/x-python",
   "name": "python",
   "nbconvert_exporter": "python",
   "pygments_lexer": "ipython3",
   "version": "3.7.3"
  }
 },
 "nbformat": 4,
 "nbformat_minor": 2
}
