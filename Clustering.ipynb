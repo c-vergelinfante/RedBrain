{
 "cells": [
  {
   "cell_type": "markdown",
   "metadata": {},
   "source": [
    "# Unsupervised learning - Clustering"
   ]
  },
  {
   "cell_type": "markdown",
   "metadata": {},
   "source": [
    "K means clustering will cluster each data point over each variable and over the specified number of clusters. Clustering aims to have the largest distance from cluster centroids (means), while also minimising the distance of each member from the centroid (variance)."
   ]
  },
  {
   "cell_type": "markdown",
   "metadata": {},
   "source": [
    "### Import libraries"
   ]
  },
  {
   "cell_type": "code",
   "execution_count": null,
   "metadata": {},
   "outputs": [],
   "source": [
    "# import libraries\n",
    "import os\n",
    "import matplotlib.pyplot as plt\n",
    "import pandas as pd\n",
    "import numpy as np"
   ]
  },
  {
   "cell_type": "markdown",
   "metadata": {},
   "source": [
    "### Read CSV file"
   ]
  },
  {
   "cell_type": "code",
   "execution_count": null,
   "metadata": {},
   "outputs": [],
   "source": [
    "# read the aggregated dataset\n",
    "df = pd.read_csv('SQL_aggregated_data.csv', header = 0, )"
   ]
  },
  {
   "cell_type": "markdown",
   "metadata": {},
   "source": [
    "### Explore data"
   ]
  },
  {
   "cell_type": "code",
   "execution_count": null,
   "metadata": {},
   "outputs": [],
   "source": [
    "df.head(3)"
   ]
  },
  {
   "cell_type": "code",
   "execution_count": null,
   "metadata": {},
   "outputs": [],
   "source": [
    "# check number of rows and columns\n",
    "df.shape"
   ]
  },
  {
   "cell_type": "markdown",
   "metadata": {},
   "source": [
    "### Pull out only those retailers from the future period"
   ]
  },
  {
   "cell_type": "code",
   "execution_count": null,
   "metadata": {},
   "outputs": [],
   "source": [
    "# it's unclear how to combine trial and future data from the same retailer - sum/mean? \n",
    "# group by retailer (mean doesn't do anything here as each retailer only appears once in the future period)\n",
    "df = df[df['period']=='future']\n",
    "df = df.groupby(['CustomAttribute1']).mean()"
   ]
  },
  {
   "cell_type": "code",
   "execution_count": null,
   "metadata": {},
   "outputs": [],
   "source": [
    "# drop profit as not used, total_conversionvalue is a duplicate of revenue\n",
    "df = df.drop(columns = ['Profit','total_conversionvalue'])"
   ]
  },
  {
   "cell_type": "code",
   "execution_count": null,
   "metadata": {},
   "outputs": [],
   "source": [
    "df.describe()"
   ]
  },
  {
   "cell_type": "markdown",
   "metadata": {},
   "source": [
    "## Rescale features (0 , 1) before clustering"
   ]
  },
  {
   "cell_type": "code",
   "execution_count": null,
   "metadata": {},
   "outputs": [],
   "source": [
    "# rescale features for k-means cluster analysis\n",
    "from sklearn.preprocessing import MinMaxScaler\n",
    "scaler = MinMaxScaler()\n",
    "df_scaledClst = df.copy()\n",
    "df_scaledClst[:] = scaler.fit_transform(df_scaledClst)"
   ]
  },
  {
   "cell_type": "markdown",
   "metadata": {},
   "source": [
    "### Check for optimal number of clusters (1-20) w Elbow Method"
   ]
  },
  {
   "cell_type": "code",
   "execution_count": null,
   "metadata": {},
   "outputs": [],
   "source": [
    "# apply K-means clustering over 1-20 different clusters, and plot the sum of the squared distances of each data point from the\n",
    "# cluster centroid, over each feature and cluster\n",
    "from sklearn.cluster import KMeans\n",
    "Sum_of_squared_distances = []\n",
    "K = range(1,20)\n",
    "for k in K:\n",
    "    km = KMeans(n_clusters=k)\n",
    "    km = km.fit(df_scaledClst)\n",
    "    Sum_of_squared_distances.append(km.inertia_)"
   ]
  },
  {
   "cell_type": "code",
   "execution_count": null,
   "metadata": {},
   "outputs": [],
   "source": [
    "# Plot elbow\n",
    "plt.plot(K, Sum_of_squared_distances, 'bx-')\n",
    "plt.xlabel('k')\n",
    "plt.ylabel('Sum_of_squared_distances')\n",
    "plt.title('Elbow Method For Optimal k')\n",
    "plt.show()"
   ]
  },
  {
   "cell_type": "markdown",
   "metadata": {},
   "source": [
    "### Assign clusters to non-rescaled data (for visualization)"
   ]
  },
  {
   "cell_type": "code",
   "execution_count": null,
   "metadata": {},
   "outputs": [],
   "source": [
    "# apply k-means clustering to data for 4 clusters using info from above plot - we want the smallest number of clusters that \n",
    "# provides a low squared distance\n",
    "kmeans = KMeans(n_clusters = 4).fit(df_scaledClst)\n",
    "df_Clst = df.copy()\n",
    "df_Clst['cluster'] = kmeans.predict(df_scaledClst)"
   ]
  },
  {
   "cell_type": "code",
   "execution_count": null,
   "metadata": {},
   "outputs": [],
   "source": [
    "df_Clst.head(3)"
   ]
  },
  {
   "cell_type": "markdown",
   "metadata": {},
   "source": [
    "### Check for clustering criteria"
   ]
  },
  {
   "cell_type": "code",
   "execution_count": null,
   "metadata": {
    "scrolled": true
   },
   "outputs": [],
   "source": [
    "# group each retailer by their respective cluster and take the mean over all retailers in that cluster\n",
    "df_Clst.groupby(['cluster']).mean()"
   ]
  },
  {
   "cell_type": "markdown",
   "metadata": {},
   "source": [
    "### Number of retailers per cluster"
   ]
  },
  {
   "cell_type": "code",
   "execution_count": null,
   "metadata": {
    "scrolled": false
   },
   "outputs": [],
   "source": [
    "df_Clst['cluster'].value_counts(dropna=False)"
   ]
  },
  {
   "cell_type": "markdown",
   "metadata": {},
   "source": [
    "### Check high-revenue cluster retailers"
   ]
  },
  {
   "cell_type": "code",
   "execution_count": null,
   "metadata": {
    "scrolled": true
   },
   "outputs": [],
   "source": [
    "# cluster assignment may be different on each pass, so choose the cluster with only 8 members\n",
    "df_Clst[df_Clst['cluster']==0]"
   ]
  },
  {
   "cell_type": "markdown",
   "metadata": {},
   "source": [
    "## 2D plot"
   ]
  },
  {
   "cell_type": "code",
   "execution_count": null,
   "metadata": {},
   "outputs": [],
   "source": [
    "# plot impressions vs revenue as an example\n",
    "fig, ax = plt.subplots(figsize=(12,10))\n",
    "varX = 'total_impressions'\n",
    "varY = 'Revenue'\n",
    "scatter = ax.scatter(df_Clst[varX], df_Clst[varY], c=df_Clst['cluster'],\n",
    "            s=60, cmap = 'Set1');\n",
    "ax.legend(*scatter.legend_elements(),\n",
    "                    loc=\"lower right\", title=\"Classes\")\n",
    "ax.set_yscale('log')\n",
    "ax.set_xscale('log')\n",
    "plt.xlim((10,50000000))\n",
    "plt.ylim((0.01,1000000))\n",
    "plt.xlabel(varX)\n",
    "plt.ylabel(varY)"
   ]
  },
  {
   "cell_type": "markdown",
   "metadata": {},
   "source": [
    "## Interactive 3D plot"
   ]
  },
  {
   "cell_type": "code",
   "execution_count": null,
   "metadata": {},
   "outputs": [],
   "source": [
    "# plot revenue vs click/day and CTR as an example\n",
    "from mpl_toolkits.mplot3d import Axes3D\n",
    "#%matplotlib qt   # this is for an interactive plot, it may or may not work on your python setup\n",
    "fig = plt.figure(figsize=(12,10))\n",
    "ax = Axes3D(fig)\n",
    "varX='clicks_per_day'\n",
    "varY='avg_Ctr'\n",
    "varZ='Revenue'\n",
    "xx = np.log10(df_Clst[varX])\n",
    "yy = df_Clst[varY]\n",
    "zz = np.log10(df_Clst[varZ])\n",
    "ax.scatter(xx,yy, zz, c=df_Clst['cluster'], s=60, cmap = 'Set1')\n",
    "ax.view_init(35, 115)\n",
    "\n",
    "plt.xlabel('log '+varX)\n",
    "plt.ylabel(varY)\n",
    "ax.set_zlabel('log '+varZ)\n",
    "\n",
    "ax.set_ylim(0,7)"
   ]
  },
  {
   "cell_type": "code",
   "execution_count": null,
   "metadata": {},
   "outputs": [],
   "source": []
  }
 ],
 "metadata": {
  "kernelspec": {
   "display_name": "Python 3",
   "language": "python",
   "name": "python3"
  },
  "language_info": {
   "codemirror_mode": {
    "name": "ipython",
    "version": 3
   },
   "file_extension": ".py",
   "mimetype": "text/x-python",
   "name": "python",
   "nbconvert_exporter": "python",
   "pygments_lexer": "ipython3",
   "version": "3.7.3"
  }
 },
 "nbformat": 4,
 "nbformat_minor": 2
}
